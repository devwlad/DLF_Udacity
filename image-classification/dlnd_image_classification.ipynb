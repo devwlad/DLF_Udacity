{
 "cells": [
  {
   "cell_type": "markdown",
   "metadata": {
    "collapsed": true
   },
   "source": [
    "# Image Classification\n",
    "In this project, you'll classify images from the [CIFAR-10 dataset](https://www.cs.toronto.edu/~kriz/cifar.html).  The dataset consists of airplanes, dogs, cats, and other objects. You'll preprocess the images, then train a convolutional neural network on all the samples. The images need to be normalized and the labels need to be one-hot encoded.  You'll get to apply what you learned and build a convolutional, max pooling, dropout, and fully connected layers.  At the end, you'll get to see your neural network's predictions on the sample images.\n",
    "## Get the Data\n",
    "Run the following cell to download the [CIFAR-10 dataset for python](https://www.cs.toronto.edu/~kriz/cifar-10-python.tar.gz)."
   ]
  },
  {
   "cell_type": "code",
   "execution_count": 2,
   "metadata": {},
   "outputs": [
    {
     "name": "stdout",
     "output_type": "stream",
     "text": [
      "All files found!\n"
     ]
    }
   ],
   "source": [
    "\"\"\"\n",
    "DON'T MODIFY ANYTHING IN THIS CELL THAT IS BELOW THIS LINE\n",
    "\"\"\"\n",
    "from urllib.request import urlretrieve\n",
    "from os.path import isfile, isdir\n",
    "from tqdm import tqdm\n",
    "import problem_unittests as tests\n",
    "import tarfile\n",
    "\n",
    "cifar10_dataset_folder_path = 'cifar-10-batches-py'\n",
    "\n",
    "# Use Floyd's cifar-10 dataset if present\n",
    "floyd_cifar10_location = '/input/cifar-10/python.tar.gz'\n",
    "if isfile(floyd_cifar10_location):\n",
    "    tar_gz_path = floyd_cifar10_location\n",
    "else:\n",
    "    tar_gz_path = 'cifar-10-python.tar.gz'\n",
    "\n",
    "class DLProgress(tqdm):\n",
    "    last_block = 0\n",
    "\n",
    "    def hook(self, block_num=1, block_size=1, total_size=None):\n",
    "        self.total = total_size\n",
    "        self.update((block_num - self.last_block) * block_size)\n",
    "        self.last_block = block_num\n",
    "\n",
    "if not isfile(tar_gz_path):\n",
    "    with DLProgress(unit='B', unit_scale=True, miniters=1, desc='CIFAR-10 Dataset') as pbar:\n",
    "        urlretrieve(\n",
    "            'https://www.cs.toronto.edu/~kriz/cifar-10-python.tar.gz',\n",
    "            tar_gz_path,\n",
    "            pbar.hook)\n",
    "\n",
    "if not isdir(cifar10_dataset_folder_path):\n",
    "    with tarfile.open(tar_gz_path) as tar:\n",
    "        tar.extractall()\n",
    "        tar.close()\n",
    "\n",
    "\n",
    "tests.test_folder_path(cifar10_dataset_folder_path)"
   ]
  },
  {
   "cell_type": "markdown",
   "metadata": {},
   "source": [
    "## Explore the Data\n",
    "The dataset is broken into batches to prevent your machine from running out of memory.  The CIFAR-10 dataset consists of 5 batches, named `data_batch_1`, `data_batch_2`, etc.. Each batch contains the labels and images that are one of the following:\n",
    "* airplane\n",
    "* automobile\n",
    "* bird\n",
    "* cat\n",
    "* deer\n",
    "* dog\n",
    "* frog\n",
    "* horse\n",
    "* ship\n",
    "* truck\n",
    "\n",
    "Understanding a dataset is part of making predictions on the data.  Play around with the code cell below by changing the `batch_id` and `sample_id`. The `batch_id` is the id for a batch (1-5). The `sample_id` is the id for a image and label pair in the batch.\n",
    "\n",
    "Ask yourself \"What are all possible labels?\", \"What is the range of values for the image data?\", \"Are the labels in order or random?\".  Answers to questions like these will help you preprocess the data and end up with better predictions."
   ]
  },
  {
   "cell_type": "code",
   "execution_count": 3,
   "metadata": {},
   "outputs": [
    {
     "name": "stdout",
     "output_type": "stream",
     "text": [
      "\n",
      "Stats of batch 1:\n",
      "Samples: 10000\n",
      "Label Counts: {0: 1005, 1: 974, 2: 1032, 3: 1016, 4: 999, 5: 937, 6: 1030, 7: 1001, 8: 1025, 9: 981}\n",
      "First 20 Labels: [6, 9, 9, 4, 1, 1, 2, 7, 8, 3, 4, 7, 7, 2, 9, 9, 9, 3, 2, 6]\n",
      "\n",
      "Example of Image 5:\n",
      "Image - Min Value: 0 Max Value: 252\n",
      "Image - Shape: (32, 32, 3)\n",
      "Label - Label Id: 1 Name: automobile\n"
     ]
    },
    {
     "data": {
      "image/png": "[encoded data removed]",
      "text/plain": [
       "<matplotlib.figure.Figure at 0x21c5b31fac8>"
      ]
     },
     "metadata": {
      "image/png": {
       "height": 250,
       "width": 253
      }
     },
     "output_type": "display_data"
    }
   ],
   "source": [
    "%matplotlib inline\n",
    "%config InlineBackend.figure_format = 'retina'\n",
    "\n",
    "import helper\n",
    "import numpy as np\n",
    "\n",
    "# Explore the dataset\n",
    "batch_id = 1\n",
    "sample_id = 5\n",
    "helper.display_stats(cifar10_dataset_folder_path, batch_id, sample_id)"
   ]
  },
  {
   "cell_type": "markdown",
   "metadata": {},
   "source": [
    "## Implement Preprocess Functions\n",
    "### Normalize\n",
    "In the cell below, implement the `normalize` function to take in image data, `x`, and return it as a normalized Numpy array. The values should be in the range of 0 to 1, inclusive.  The return object should be the same shape as `x`."
   ]
  },
  {
   "cell_type": "code",
   "execution_count": 4,
   "metadata": {},
   "outputs": [
    {
     "name": "stdout",
     "output_type": "stream",
     "text": [
      "Tests Passed\n"
     ]
    }
   ],
   "source": [
    "def normalize(x):\n",
    "    \"\"\"\n",
    "    Normalize a list of sample image data in the range of 0 to 1\n",
    "    : x: List of image data.  The image shape is (32, 32, 3)\n",
    "    : return: Numpy array of normalize data\n",
    "    \"\"\"\n",
    "    # TODO: Implement Function\n",
    "    maxSh = np.max(x)\n",
    "    minSh = np.min(x)\n",
    "    return (x - minSh)/(maxSh - minSh)\n",
    "\n",
    "\n",
    "\"\"\"\n",
    "DON'T MODIFY ANYTHING IN THIS CELL THAT IS BELOW THIS LINE\n",
    "\"\"\"\n",
    "tests.test_normalize(normalize)"
   ]
  },
  {
   "cell_type": "markdown",
   "metadata": {},
   "source": [
    "### One-hot encode\n",
    "Just like the previous code cell, you'll be implementing a function for preprocessing.  This time, you'll implement the `one_hot_encode` function. The input, `x`, are a list of labels.  Implement the function to return the list of labels as One-Hot encoded Numpy array.  The possible values for labels are 0 to 9. The one-hot encoding function should return the same encoding for each value between each call to `one_hot_encode`.  Make sure to save the map of encodings outside the function.\n",
    "\n",
    "Hint: Don't reinvent the wheel."
   ]
  },
  {
   "cell_type": "code",
   "execution_count": 5,
   "metadata": {},
   "outputs": [
    {
     "name": "stdout",
     "output_type": "stream",
     "text": [
      "Tests Passed\n"
     ]
    }
   ],
   "source": [
    "def one_hot_encode(x):\n",
    "    \"\"\"\n",
    "    One hot encode a list of sample labels. Return a one-hot encoded vector for each label.\n",
    "    : x: List of sample Labels\n",
    "    : return: Numpy array of one-hot encoded labels\n",
    "    \"\"\"\n",
    "    # TODO: Implement Function\n",
    "    return np.eye(10)[x]\n",
    "\n",
    "\"\"\"\n",
    "DON'T MODIFY ANYTHING IN THIS CELL THAT IS BELOW THIS LINE\n",
    "\"\"\"\n",
    "tests.test_one_hot_encode(one_hot_encode)"
   ]
  },
  {
   "cell_type": "markdown",
   "metadata": {},
   "source": [
    "### Randomize Data\n",
    "As you saw from exploring the data above, the order of the samples are randomized.  It doesn't hurt to randomize it again, but you don't need to for this dataset."
   ]
  },
  {
   "cell_type": "markdown",
   "metadata": {},
   "source": [
    "## Preprocess all the data and save it\n",
    "Running the code cell below will preprocess all the CIFAR-10 data and save it to file. The code below also uses 10% of the training data for validation."
   ]
  },
  {
   "cell_type": "code",
   "execution_count": 6,
   "metadata": {
    "collapsed": true
   },
   "outputs": [],
   "source": [
    "\"\"\"\n",
    "DON'T MODIFY ANYTHING IN THIS CELL\n",
    "\"\"\"\n",
    "# Preprocess Training, Validation, and Testing Data\n",
    "helper.preprocess_and_save_data(cifar10_dataset_folder_path, normalize, one_hot_encode)"
   ]
  },
  {
   "cell_type": "markdown",
   "metadata": {},
   "source": [
    "# Check Point\n",
    "This is your first checkpoint.  If you ever decide to come back to this notebook or have to restart the notebook, you can start from here.  The preprocessed data has been saved to disk."
   ]
  },
  {
   "cell_type": "code",
   "execution_count": 7,
   "metadata": {
    "collapsed": true
   },
   "outputs": [],
   "source": [
    "\"\"\"\n",
    "DON'T MODIFY ANYTHING IN THIS CELL\n",
    "\"\"\"\n",
    "import pickle\n",
    "import problem_unittests as tests\n",
    "import helper\n",
    "\n",
    "# Load the Preprocessed Validation data\n",
    "valid_features, valid_labels = pickle.load(open('preprocess_validation.p', mode='rb'))"
   ]
  },
  {
   "cell_type": "markdown",
   "metadata": {},
   "source": [
    "## Build the network\n",
    "For the neural network, you'll build each layer into a function.  Most of the code you've seen has been outside of functions. To test your code more thoroughly, we require that you put each layer in a function.  This allows us to give you better feedback and test for simple mistakes using our unittests before you submit your project.\n",
    "\n",
    ">**Note:** If you're finding it hard to dedicate enough time for this course each week, we've provided a small shortcut to this part of the project. In the next couple of problems, you'll have the option to use classes from the [TensorFlow Layers](https://www.tensorflow.org/api_docs/python/tf/layers) or [TensorFlow Layers (contrib)](https://www.tensorflow.org/api_guides/python/contrib.layers) packages to build each layer, except the layers you build in the \"Convolutional and Max Pooling Layer\" section.  TF Layers is similar to Keras's and TFLearn's abstraction to layers, so it's easy to pickup.\n",
    "\n",
    ">However, if you would like to get the most out of this course, try to solve all the problems _without_ using anything from the TF Layers packages. You **can** still use classes from other packages that happen to have the same name as ones you find in TF Layers! For example, instead of using the TF Layers version of the `conv2d` class, [tf.layers.conv2d](https://www.tensorflow.org/api_docs/python/tf/layers/conv2d), you would want to use the TF Neural Network version of `conv2d`, [tf.nn.conv2d](https://www.tensorflow.org/api_docs/python/tf/nn/conv2d). \n",
    "\n",
    "Let's begin!\n",
    "\n",
    "### Input\n",
    "The neural network needs to read the image data, one-hot encoded labels, and dropout keep probability. Implement the following functions\n",
    "* Implement `neural_net_image_input`\n",
    " * Return a [TF Placeholder](https://www.tensorflow.org/api_docs/python/tf/placeholder)\n",
    " * Set the shape using `image_shape` with batch size set to `None`.\n",
    " * Name the TensorFlow placeholder \"x\" using the TensorFlow `name` parameter in the [TF Placeholder](https://www.tensorflow.org/api_docs/python/tf/placeholder).\n",
    "* Implement `neural_net_label_input`\n",
    " * Return a [TF Placeholder](https://www.tensorflow.org/api_docs/python/tf/placeholder)\n",
    " * Set the shape using `n_classes` with batch size set to `None`.\n",
    " * Name the TensorFlow placeholder \"y\" using the TensorFlow `name` parameter in the [TF Placeholder](https://www.tensorflow.org/api_docs/python/tf/placeholder).\n",
    "* Implement `neural_net_keep_prob_input`\n",
    " * Return a [TF Placeholder](https://www.tensorflow.org/api_docs/python/tf/placeholder) for dropout keep probability.\n",
    " * Name the TensorFlow placeholder \"keep_prob\" using the TensorFlow `name` parameter in the [TF Placeholder](https://www.tensorflow.org/api_docs/python/tf/placeholder).\n",
    "\n",
    "These names will be used at the end of the project to load your saved model.\n",
    "\n",
    "Note: `None` for shapes in TensorFlow allow for a dynamic size."
   ]
  },
  {
   "cell_type": "code",
   "execution_count": 8,
   "metadata": {},
   "outputs": [
    {
     "name": "stdout",
     "output_type": "stream",
     "text": [
      "Image Input Tests Passed.\n",
      "Label Input Tests Passed.\n",
      "Keep Prob Tests Passed.\n"
     ]
    }
   ],
   "source": [
    "import tensorflow as tf\n",
    "\n",
    "def neural_net_image_input(image_shape):\n",
    "    \"\"\"\n",
    "    Return a Tensor for a batch of image input\n",
    "    : image_shape: Shape of the images\n",
    "    : return: Tensor for image input.\n",
    "    \"\"\"\n",
    "    # TODO: Implement Function\n",
    "    return tf.placeholder(tf.float32, shape=(None, *image_shape), name='x')\n",
    "\n",
    "\n",
    "def neural_net_label_input(n_classes):\n",
    "    \"\"\"\n",
    "    Return a Tensor for a batch of label input\n",
    "    : n_classes: Number of classes\n",
    "    : return: Tensor for label input.\n",
    "    \"\"\"\n",
    "    # TODO: Implement Function\n",
    "    return tf.placeholder(tf.float32, [None, n_classes], name='y')\n",
    "\n",
    "\n",
    "def neural_net_keep_prob_input():\n",
    "    \"\"\"\n",
    "    Return a Tensor for keep probability\n",
    "    : return: Tensor for keep probability.\n",
    "    \"\"\"\n",
    "    # TODO: Implement Function\n",
    "    return tf.placeholder(tf.float32,name=\"keep_prob\")\n",
    "\n",
    "\n",
    "\"\"\"\n",
    "DON'T MODIFY ANYTHING IN THIS CELL THAT IS BELOW THIS LINE\n",
    "\"\"\"\n",
    "tf.reset_default_graph()\n",
    "tests.test_nn_image_inputs(neural_net_image_input)\n",
    "tests.test_nn_label_inputs(neural_net_label_input)\n",
    "tests.test_nn_keep_prob_inputs(neural_net_keep_prob_input)"
   ]
  },
  {
   "cell_type": "markdown",
   "metadata": {},
   "source": [
    "### Convolution and Max Pooling Layer\n",
    "Convolution layers have a lot of success with images. For this code cell, you should implement the function `conv2d_maxpool` to apply convolution then max pooling:\n",
    "* Create the weight and bias using `conv_ksize`, `conv_num_outputs` and the shape of `x_tensor`.\n",
    "* Apply a convolution to `x_tensor` using weight and `conv_strides`.\n",
    " * We recommend you use same padding, but you're welcome to use any padding.\n",
    "* Add bias\n",
    "* Add a nonlinear activation to the convolution.\n",
    "* Apply Max Pooling using `pool_ksize` and `pool_strides`.\n",
    " * We recommend you use same padding, but you're welcome to use any padding.\n",
    "\n",
    "**Note:** You **can't** use [TensorFlow Layers](https://www.tensorflow.org/api_docs/python/tf/layers) or [TensorFlow Layers (contrib)](https://www.tensorflow.org/api_guides/python/contrib.layers) for **this** layer, but you can still use TensorFlow's [Neural Network](https://www.tensorflow.org/api_docs/python/tf/nn) package. You may still use the shortcut option for all the **other** layers."
   ]
  },
  {
   "cell_type": "code",
   "execution_count": 9,
   "metadata": {},
   "outputs": [
    {
     "name": "stdout",
     "output_type": "stream",
     "text": [
      "Tests Passed\n"
     ]
    }
   ],
   "source": [
    "def conv2d_maxpool(x_tensor, conv_num_outputs, conv_ksize, conv_strides, pool_ksize, pool_strides):\n",
    "    \"\"\"\n",
    "    Apply convolution then max pooling to x_tensor\n",
    "    :param x_tensor: TensorFlow Tensor\n",
    "    :param conv_num_outputs: Number of outputs for the convolutional layer\n",
    "    :param conv_ksize: kernal size 2-D Tuple for the convolutional layer\n",
    "    :param conv_strides: Stride 2-D Tuple for convolution\n",
    "    :param pool_ksize: kernal size 2-D Tuple for pool\n",
    "    :param pool_strides: Stride 2-D Tuple for pool\n",
    "    : return: A tensor that represents convolution and max pooling of x_tensor\n",
    "    \"\"\"\n",
    "    # TODO: Implement Function\n",
    "    input_depth = x_tensor.get_shape().as_list()[-1]\n",
    "    W = tf.Variable(tf.random_normal([conv_ksize[0], conv_ksize[1], input_depth, conv_num_outputs],stddev=0.1))\n",
    "    b = tf.Variable(tf.zeros(conv_num_outputs))\n",
    "    conv = tf.nn.conv2d(x_tensor, W, [1, conv_strides[0], conv_strides[1], 1], 'SAME') + b\n",
    "    conv = tf.nn.relu(conv)\n",
    "    return tf.nn.max_pool(conv,[1, pool_ksize[0], pool_ksize[1], 1],[1, pool_strides[0], pool_strides[1], 1],'SAME')\n",
    "\n",
    "\n",
    "\"\"\"\n",
    "DON'T MODIFY ANYTHING IN THIS CELL THAT IS BELOW THIS LINE\n",
    "\"\"\"\n",
    "tests.test_con_pool(conv2d_maxpool)"
   ]
  },
  {
   "cell_type": "markdown",
   "metadata": {},
   "source": [
    "### Flatten Layer\n",
    "Implement the `flatten` function to change the dimension of `x_tensor` from a 4-D tensor to a 2-D tensor.  The output should be the shape (*Batch Size*, *Flattened Image Size*). Shortcut option: you can use classes from the [TensorFlow Layers](https://www.tensorflow.org/api_docs/python/tf/layers) or [TensorFlow Layers (contrib)](https://www.tensorflow.org/api_guides/python/contrib.layers) packages for this layer. For more of a challenge, only use other TensorFlow packages."
   ]
  },
  {
   "cell_type": "code",
   "execution_count": 10,
   "metadata": {},
   "outputs": [
    {
     "name": "stdout",
     "output_type": "stream",
     "text": [
      "Tests Passed\n"
     ]
    }
   ],
   "source": [
    "def flatten(x_tensor):\n",
    "    \"\"\"\n",
    "    Flatten x_tensor to (Batch Size, Flattened Image Size)\n",
    "    : x_tensor: A tensor of size (Batch Size, ...), where ... are the image dimensions.\n",
    "    : return: A tensor of size (Batch Size, Flattened Image Size).\n",
    "    \"\"\"\n",
    "    # TODO: Implement Function\n",
    "    shape=x_tensor.get_shape().as_list()\n",
    "    flattened_to_two=np.prod(shape[1:4])\n",
    "    return tf.reshape(x_tensor,[-1, flattened_to_two])\n",
    "\n",
    "\n",
    "\"\"\"\n",
    "DON'T MODIFY ANYTHING IN THIS CELL THAT IS BELOW THIS LINE\n",
    "\"\"\"\n",
    "tests.test_flatten(flatten)"
   ]
  },
  {
   "cell_type": "markdown",
   "metadata": {},
   "source": [
    "### Fully-Connected Layer\n",
    "Implement the `fully_conn` function to apply a fully connected layer to `x_tensor` with the shape (*Batch Size*, *num_outputs*). Shortcut option: you can use classes from the [TensorFlow Layers](https://www.tensorflow.org/api_docs/python/tf/layers) or [TensorFlow Layers (contrib)](https://www.tensorflow.org/api_guides/python/contrib.layers) packages for this layer. For more of a challenge, only use other TensorFlow packages."
   ]
  },
  {
   "cell_type": "code",
   "execution_count": 11,
   "metadata": {},
   "outputs": [
    {
     "name": "stdout",
     "output_type": "stream",
     "text": [
      "Tests Passed\n"
     ]
    }
   ],
   "source": [
    "def fully_conn(x_tensor, num_outputs):\n",
    "    \"\"\"\n",
    "    Apply a fully connected layer to x_tensor using weight and bias\n",
    "    : x_tensor: A 2-D tensor where the first dimension is batch size.\n",
    "    : num_outputs: The number of output that the new tensor should be.\n",
    "    : return: A 2-D tensor where the second dimension is num_outputs.\n",
    "    \"\"\"\n",
    "    # TODO: Implement Function\n",
    "    weigths = tf.Variable(tf.truncated_normal([x_tensor.get_shape()[1].value, num_outputs], stddev=0.01))\n",
    "    bias = tf.Variable(tf.zeros([num_outputs]))\n",
    "    return tf.nn.relu(tf.add(tf.matmul(x_tensor, weigths), bias))\n",
    "\n",
    "\n",
    "\"\"\"\n",
    "DON'T MODIFY ANYTHING IN THIS CELL THAT IS BELOW THIS LINE\n",
    "\"\"\"\n",
    "tests.test_fully_conn(fully_conn)"
   ]
  },
  {
   "cell_type": "markdown",
   "metadata": {},
   "source": [
    "### Output Layer\n",
    "Implement the `output` function to apply a fully connected layer to `x_tensor` with the shape (*Batch Size*, *num_outputs*). Shortcut option: you can use classes from the [TensorFlow Layers](https://www.tensorflow.org/api_docs/python/tf/layers) or [TensorFlow Layers (contrib)](https://www.tensorflow.org/api_guides/python/contrib.layers) packages for this layer. For more of a challenge, only use other TensorFlow packages.\n",
    "\n",
    "**Note:** Activation, softmax, or cross entropy should **not** be applied to this."
   ]
  },
  {
   "cell_type": "code",
   "execution_count": 12,
   "metadata": {},
   "outputs": [
    {
     "name": "stdout",
     "output_type": "stream",
     "text": [
      "Tests Passed\n"
     ]
    }
   ],
   "source": [
    "def output(x_tensor, num_outputs):\n",
    "    \"\"\"\n",
    "    Apply a output layer to x_tensor using weight and bias\n",
    "    : x_tensor: A 2-D tensor where the first dimension is batch size.\n",
    "    : num_outputs: The number of output that the new tensor should be.\n",
    "    : return: A 2-D tensor where the second dimension is num_outputs.\n",
    "    \"\"\"\n",
    "    # TODO: Implement Function\n",
    "    shape=x_tensor.get_shape().as_list()    \n",
    "    weights = {'out': tf.Variable(tf.random_normal([shape[1],num_outputs]))}    \n",
    "    biases = {'out': tf.Variable(tf.random_normal([num_outputs]))}    \n",
    "    out = tf.add(tf.matmul(x_tensor,weights['out']), biases['out'])\n",
    "    return out\n",
    "\n",
    "\n",
    "\"\"\"\n",
    "DON'T MODIFY ANYTHING IN THIS CELL THAT IS BELOW THIS LINE\n",
    "\"\"\"\n",
    "tests.test_output(output)"
   ]
  },
  {
   "cell_type": "markdown",
   "metadata": {},
   "source": [
    "### Create Convolutional Model\n",
    "Implement the function `conv_net` to create a convolutional neural network model. The function takes in a batch of images, `x`, and outputs logits.  Use the layers you created above to create this model:\n",
    "\n",
    "* Apply 1, 2, or 3 Convolution and Max Pool layers\n",
    "* Apply a Flatten Layer\n",
    "* Apply 1, 2, or 3 Fully Connected Layers\n",
    "* Apply an Output Layer\n",
    "* Return the output\n",
    "* Apply [TensorFlow's Dropout](https://www.tensorflow.org/api_docs/python/tf/nn/dropout) to one or more layers in the model using `keep_prob`. "
   ]
  },
  {
   "cell_type": "code",
   "execution_count": 17,
   "metadata": {},
   "outputs": [
    {
     "name": "stdout",
     "output_type": "stream",
     "text": [
      "Neural Network Built!\n"
     ]
    }
   ],
   "source": [
    "def conv_net(x, keep_prob):\n",
    "    \"\"\"\n",
    "    Create a convolutional neural network model\n",
    "    : x: Placeholder tensor that holds image data.\n",
    "    : keep_prob: Placeholder tensor that hold dropout keep probability.\n",
    "    : return: Tensor that represents logits\n",
    "    \"\"\"\n",
    "    # TODO: Apply 1, 2, or 3 Convolution and Max Pool layers\n",
    "    #    Play around with different number of outputs, kernel size and stride\n",
    "    # Function Definition from Above:\n",
    "    #    conv2d_maxpool(x_tensor, conv_num_outputs, conv_ksize, conv_strides, pool_ksize, pool_strides)\n",
    "    x = conv2d_maxpool(x, 16, (3, 3), (1, 1), (2, 2), (2, 2))\n",
    "\n",
    "    # TODO: Apply a Flatten Layer\n",
    "    # Function Definition from Above:\n",
    "    #   flatten(x_tensor)\n",
    "    x = flatten(x)\n",
    "\n",
    "    # TODO: Apply 1, 2, or 3 Fully Connected Layers\n",
    "    #    Play around with different number of outputs\n",
    "    # Function Definition from Above:\n",
    "    #   fully_conn(x_tensor, num_outputs)\n",
    "    x = fully_conn(x, 512)\n",
    "    x = tf.nn.dropout(x, keep_prob)\n",
    "    \n",
    "    # TODO: Apply an Output Layer\n",
    "    #    Set this to the number of classes\n",
    "    # Function Definition from Above:\n",
    "    #   output(x_tensor, num_outputs)\n",
    "    \n",
    "    \n",
    "    # TODO: return output\n",
    "    return output(x, 10)\n",
    "\n",
    "\n",
    "\"\"\"\n",
    "DON'T MODIFY ANYTHING IN THIS CELL THAT IS BELOW THIS LINE\n",
    "\"\"\"\n",
    "\n",
    "##############################\n",
    "## Build the Neural Network ##\n",
    "##############################\n",
    "\n",
    "# Remove previous weights, bias, inputs, etc..\n",
    "tf.reset_default_graph()\n",
    "\n",
    "# Inputs\n",
    "x = neural_net_image_input((32, 32, 3))\n",
    "y = neural_net_label_input(10)\n",
    "keep_prob = neural_net_keep_prob_input()\n",
    "\n",
    "# Model\n",
    "logits = conv_net(x, keep_prob)\n",
    "\n",
    "# Name logits Tensor, so that is can be loaded from disk after training\n",
    "logits = tf.identity(logits, name='logits')\n",
    "\n",
    "# Loss and Optimizer\n",
    "cost = tf.reduce_mean(tf.nn.softmax_cross_entropy_with_logits(logits=logits, labels=y))\n",
    "optimizer = tf.train.AdamOptimizer().minimize(cost)\n",
    "\n",
    "# Accuracy\n",
    "correct_pred = tf.equal(tf.argmax(logits, 1), tf.argmax(y, 1))\n",
    "accuracy = tf.reduce_mean(tf.cast(correct_pred, tf.float32), name='accuracy')\n",
    "\n",
    "tests.test_conv_net(conv_net)"
   ]
  },
  {
   "cell_type": "markdown",
   "metadata": {},
   "source": [
    "## Train the Neural Network\n",
    "### Single Optimization\n",
    "Implement the function `train_neural_network` to do a single optimization.  The optimization should use `optimizer` to optimize in `session` with a `feed_dict` of the following:\n",
    "* `x` for image input\n",
    "* `y` for labels\n",
    "* `keep_prob` for keep probability for dropout\n",
    "\n",
    "This function will be called for each batch, so `tf.global_variables_initializer()` has already been called.\n",
    "\n",
    "Note: Nothing needs to be returned. This function is only optimizing the neural network."
   ]
  },
  {
   "cell_type": "code",
   "execution_count": 18,
   "metadata": {},
   "outputs": [
    {
     "name": "stdout",
     "output_type": "stream",
     "text": [
      "Tests Passed\n"
     ]
    }
   ],
   "source": [
    "def train_neural_network(session, optimizer, keep_probability, feature_batch, label_batch):\n",
    "    \"\"\"\n",
    "    Optimize the session on a batch of images and labels\n",
    "    : session: Current TensorFlow session\n",
    "    : optimizer: TensorFlow optimizer function\n",
    "    : keep_probability: keep probability\n",
    "    : feature_batch: Batch of Numpy image data\n",
    "    : label_batch: Batch of Numpy label data\n",
    "    \"\"\"\n",
    "    # TODO: Implement Function\n",
    "    session.run(optimizer, feed_dict={x: feature_batch, y: label_batch, keep_prob: keep_probability})\n",
    "\n",
    "\n",
    "\"\"\"\n",
    "DON'T MODIFY ANYTHING IN THIS CELL THAT IS BELOW THIS LINE\n",
    "\"\"\"\n",
    "tests.test_train_nn(train_neural_network)"
   ]
  },
  {
   "cell_type": "markdown",
   "metadata": {},
   "source": [
    "### Show Stats\n",
    "Implement the function `print_stats` to print loss and validation accuracy.  Use the global variables `valid_features` and `valid_labels` to calculate validation accuracy.  Use a keep probability of `1.0` to calculate the loss and validation accuracy."
   ]
  },
  {
   "cell_type": "code",
   "execution_count": 19,
   "metadata": {
    "collapsed": true
   },
   "outputs": [],
   "source": [
    "def print_stats(session, feature_batch, label_batch, cost, accuracy):\n",
    "    \"\"\"\n",
    "    Print information about loss and validation accuracy\n",
    "    : session: Current TensorFlow session\n",
    "    : feature_batch: Batch of Numpy image data\n",
    "    : label_batch: Batch of Numpy label data\n",
    "    : cost: TensorFlow cost function\n",
    "    : accuracy: TensorFlow accuracy function\n",
    "    \"\"\"\n",
    "    # TODO: Implement Function\n",
    "    loss=sess.run(cost, feed_dict={\n",
    "                x:feature_batch,\n",
    "                y:label_batch,\n",
    "                keep_prob: 1.})\n",
    "    \n",
    "    global valid_features, valid_labels\n",
    "    valid_acc=sess.run(accuracy, feed_dict={\n",
    "                x:valid_features,\n",
    "                y:valid_labels,\n",
    "                keep_prob: 1.})\n",
    "    \n",
    "    print('Loss: {:>10.4f} Validation Accuracy: {:.6f}'.format(\n",
    "                loss,\n",
    "                valid_acc))"
   ]
  },
  {
   "cell_type": "markdown",
   "metadata": {},
   "source": [
    "### Hyperparameters\n",
    "Tune the following parameters:\n",
    "* Set `epochs` to the number of iterations until the network stops learning or start overfitting\n",
    "* Set `batch_size` to the highest number that your machine has memory for.  Most people set them to common sizes of memory:\n",
    " * 64\n",
    " * 128\n",
    " * 256\n",
    " * ...\n",
    "* Set `keep_probability` to the probability of keeping a node using dropout"
   ]
  },
  {
   "cell_type": "code",
   "execution_count": 20,
   "metadata": {
    "collapsed": true
   },
   "outputs": [],
   "source": [
    "# TODO: Tune Parameters\n",
    "epochs = 50\n",
    "batch_size = 1024\n",
    "keep_probability = 0.5"
   ]
  },
  {
   "cell_type": "markdown",
   "metadata": {},
   "source": [
    "### Train on a Single CIFAR-10 Batch\n",
    "Instead of training the neural network on all the CIFAR-10 batches of data, let's use a single batch. This should save time while you iterate on the model to get a better accuracy.  Once the final validation accuracy is 50% or greater, run the model on all the data in the next section."
   ]
  },
  {
   "cell_type": "code",
   "execution_count": 21,
   "metadata": {},
   "outputs": [
    {
     "name": "stdout",
     "output_type": "stream",
     "text": [
      "Checking the Training on a Single Batch...\n",
      "Epoch  1, CIFAR-10 Batch 1:  Loss:     4.5861 Validation Accuracy: 0.121000\n",
      "Epoch  2, CIFAR-10 Batch 1:  Loss:     2.5364 Validation Accuracy: 0.112400\n",
      "Epoch  3, CIFAR-10 Batch 1:  Loss:     2.3752 Validation Accuracy: 0.152800\n",
      "Epoch  4, CIFAR-10 Batch 1:  Loss:     2.3522 Validation Accuracy: 0.124000\n",
      "Epoch  5, CIFAR-10 Batch 1:  Loss:     2.3095 Validation Accuracy: 0.151800\n",
      "Epoch  6, CIFAR-10 Batch 1:  Loss:     2.2469 Validation Accuracy: 0.169200\n",
      "Epoch  7, CIFAR-10 Batch 1:  Loss:     2.2011 Validation Accuracy: 0.193200\n",
      "Epoch  8, CIFAR-10 Batch 1:  Loss:     2.1721 Validation Accuracy: 0.198600\n",
      "Epoch  9, CIFAR-10 Batch 1:  Loss:     2.1381 Validation Accuracy: 0.239400\n",
      "Epoch 10, CIFAR-10 Batch 1:  Loss:     2.1066 Validation Accuracy: 0.243400\n",
      "Epoch 11, CIFAR-10 Batch 1:  Loss:     2.0896 Validation Accuracy: 0.234400\n",
      "Epoch 12, CIFAR-10 Batch 1:  Loss:     2.0643 Validation Accuracy: 0.248600\n",
      "Epoch 13, CIFAR-10 Batch 1:  Loss:     2.0349 Validation Accuracy: 0.279800\n",
      "Epoch 14, CIFAR-10 Batch 1:  Loss:     2.0218 Validation Accuracy: 0.272200\n",
      "Epoch 15, CIFAR-10 Batch 1:  Loss:     1.9944 Validation Accuracy: 0.288000\n",
      "Epoch 16, CIFAR-10 Batch 1:  Loss:     1.9758 Validation Accuracy: 0.299400\n",
      "Epoch 17, CIFAR-10 Batch 1:  Loss:     1.9309 Validation Accuracy: 0.310600\n",
      "Epoch 18, CIFAR-10 Batch 1:  Loss:     1.8965 Validation Accuracy: 0.328800\n",
      "Epoch 19, CIFAR-10 Batch 1:  Loss:     1.8876 Validation Accuracy: 0.314800\n",
      "Epoch 20, CIFAR-10 Batch 1:  Loss:     1.8218 Validation Accuracy: 0.339200\n",
      "Epoch 21, CIFAR-10 Batch 1:  Loss:     1.7966 Validation Accuracy: 0.347800\n",
      "Epoch 22, CIFAR-10 Batch 1:  Loss:     1.7604 Validation Accuracy: 0.346400\n",
      "Epoch 23, CIFAR-10 Batch 1:  Loss:     1.7581 Validation Accuracy: 0.363000\n",
      "Epoch 24, CIFAR-10 Batch 1:  Loss:     1.7013 Validation Accuracy: 0.378400\n",
      "Epoch 25, CIFAR-10 Batch 1:  Loss:     1.6620 Validation Accuracy: 0.400600\n",
      "Epoch 26, CIFAR-10 Batch 1:  Loss:     1.6442 Validation Accuracy: 0.397400\n",
      "Epoch 27, CIFAR-10 Batch 1:  Loss:     1.6148 Validation Accuracy: 0.392800\n",
      "Epoch 28, CIFAR-10 Batch 1:  Loss:     1.5579 Validation Accuracy: 0.420400\n",
      "Epoch 29, CIFAR-10 Batch 1:  Loss:     1.5122 Validation Accuracy: 0.436600\n",
      "Epoch 30, CIFAR-10 Batch 1:  Loss:     1.4942 Validation Accuracy: 0.436800\n",
      "Epoch 31, CIFAR-10 Batch 1:  Loss:     1.4428 Validation Accuracy: 0.451400\n",
      "Epoch 32, CIFAR-10 Batch 1:  Loss:     1.4142 Validation Accuracy: 0.462400\n",
      "Epoch 33, CIFAR-10 Batch 1:  Loss:     1.3986 Validation Accuracy: 0.460400\n",
      "Epoch 34, CIFAR-10 Batch 1:  Loss:     1.3634 Validation Accuracy: 0.466400\n",
      "Epoch 35, CIFAR-10 Batch 1:  Loss:     1.3391 Validation Accuracy: 0.475400\n",
      "Epoch 36, CIFAR-10 Batch 1:  Loss:     1.3133 Validation Accuracy: 0.477800\n",
      "Epoch 37, CIFAR-10 Batch 1:  Loss:     1.2888 Validation Accuracy: 0.475000\n",
      "Epoch 38, CIFAR-10 Batch 1:  Loss:     1.2614 Validation Accuracy: 0.483000\n",
      "Epoch 39, CIFAR-10 Batch 1:  Loss:     1.2576 Validation Accuracy: 0.481000\n",
      "Epoch 40, CIFAR-10 Batch 1:  Loss:     1.2285 Validation Accuracy: 0.482800\n",
      "Epoch 41, CIFAR-10 Batch 1:  Loss:     1.2071 Validation Accuracy: 0.486800\n",
      "Epoch 42, CIFAR-10 Batch 1:  Loss:     1.1884 Validation Accuracy: 0.487000\n",
      "Epoch 43, CIFAR-10 Batch 1:  Loss:     1.1821 Validation Accuracy: 0.493800\n",
      "Epoch 44, CIFAR-10 Batch 1:  Loss:     1.1735 Validation Accuracy: 0.493400\n",
      "Epoch 45, CIFAR-10 Batch 1:  Loss:     1.1816 Validation Accuracy: 0.496200\n",
      "Epoch 46, CIFAR-10 Batch 1:  Loss:     1.2018 Validation Accuracy: 0.496400\n",
      "Epoch 47, CIFAR-10 Batch 1:  Loss:     1.1823 Validation Accuracy: 0.494800\n",
      "Epoch 48, CIFAR-10 Batch 1:  Loss:     1.1505 Validation Accuracy: 0.501600\n",
      "Epoch 49, CIFAR-10 Batch 1:  Loss:     1.1260 Validation Accuracy: 0.504600\n",
      "Epoch 50, CIFAR-10 Batch 1:  Loss:     1.1251 Validation Accuracy: 0.507200\n"
     ]
    }
   ],
   "source": [
    "\"\"\"\n",
    "DON'T MODIFY ANYTHING IN THIS CELL\n",
    "\"\"\"\n",
    "print('Checking the Training on a Single Batch...')\n",
    "with tf.Session() as sess:\n",
    "    # Initializing the variables\n",
    "    sess.run(tf.global_variables_initializer())\n",
    "    \n",
    "    # Training cycle\n",
    "    for epoch in range(epochs):\n",
    "        batch_i = 1\n",
    "        for batch_features, batch_labels in helper.load_preprocess_training_batch(batch_i, batch_size):\n",
    "            train_neural_network(sess, optimizer, keep_probability, batch_features, batch_labels)\n",
    "        print('Epoch {:>2}, CIFAR-10 Batch {}:  '.format(epoch + 1, batch_i), end='')\n",
    "        print_stats(sess, batch_features, batch_labels, cost, accuracy)"
   ]
  },
  {
   "cell_type": "markdown",
   "metadata": {},
   "source": [
    "### Fully Train the Model\n",
    "Now that you got a good accuracy with a single CIFAR-10 batch, try it with all five batches."
   ]
  },
  {
   "cell_type": "code",
   "execution_count": 22,
   "metadata": {},
   "outputs": [
    {
     "name": "stdout",
     "output_type": "stream",
     "text": [
      "Training...\n",
      "Epoch  1, CIFAR-10 Batch 1:  Loss:     2.8923 Validation Accuracy: 0.105200\n",
      "Epoch  1, CIFAR-10 Batch 2:  Loss:     2.2887 Validation Accuracy: 0.139600\n",
      "Epoch  1, CIFAR-10 Batch 3:  Loss:     2.2385 Validation Accuracy: 0.190200\n",
      "Epoch  1, CIFAR-10 Batch 4:  Loss:     2.0985 Validation Accuracy: 0.253200\n",
      "Epoch  1, CIFAR-10 Batch 5:  Loss:     1.9584 Validation Accuracy: 0.311600\n",
      "Epoch  2, CIFAR-10 Batch 1:  Loss:     1.8738 Validation Accuracy: 0.359800\n",
      "Epoch  2, CIFAR-10 Batch 2:  Loss:     1.8043 Validation Accuracy: 0.414800\n",
      "Epoch  2, CIFAR-10 Batch 3:  Loss:     1.6594 Validation Accuracy: 0.422400\n",
      "Epoch  2, CIFAR-10 Batch 4:  Loss:     1.6325 Validation Accuracy: 0.423000\n",
      "Epoch  2, CIFAR-10 Batch 5:  Loss:     1.6164 Validation Accuracy: 0.440400\n",
      "Epoch  3, CIFAR-10 Batch 1:  Loss:     1.5772 Validation Accuracy: 0.453000\n",
      "Epoch  3, CIFAR-10 Batch 2:  Loss:     1.5540 Validation Accuracy: 0.477800\n",
      "Epoch  3, CIFAR-10 Batch 3:  Loss:     1.4972 Validation Accuracy: 0.474000\n",
      "Epoch  3, CIFAR-10 Batch 4:  Loss:     1.4675 Validation Accuracy: 0.480000\n",
      "Epoch  3, CIFAR-10 Batch 5:  Loss:     1.4771 Validation Accuracy: 0.489800\n",
      "Epoch  4, CIFAR-10 Batch 1:  Loss:     1.4336 Validation Accuracy: 0.501600\n",
      "Epoch  4, CIFAR-10 Batch 2:  Loss:     1.4434 Validation Accuracy: 0.505000\n",
      "Epoch  4, CIFAR-10 Batch 3:  Loss:     1.3778 Validation Accuracy: 0.503000\n",
      "Epoch  4, CIFAR-10 Batch 4:  Loss:     1.3528 Validation Accuracy: 0.516600\n",
      "Epoch  4, CIFAR-10 Batch 5:  Loss:     1.3633 Validation Accuracy: 0.517800\n",
      "Epoch  5, CIFAR-10 Batch 1:  Loss:     1.3511 Validation Accuracy: 0.518800\n",
      "Epoch  5, CIFAR-10 Batch 2:  Loss:     1.3436 Validation Accuracy: 0.533600\n",
      "Epoch  5, CIFAR-10 Batch 3:  Loss:     1.2791 Validation Accuracy: 0.524800\n",
      "Epoch  5, CIFAR-10 Batch 4:  Loss:     1.2783 Validation Accuracy: 0.533200\n",
      "Epoch  5, CIFAR-10 Batch 5:  Loss:     1.2654 Validation Accuracy: 0.543400\n",
      "Epoch  6, CIFAR-10 Batch 1:  Loss:     1.2768 Validation Accuracy: 0.544200\n",
      "Epoch  6, CIFAR-10 Batch 2:  Loss:     1.2819 Validation Accuracy: 0.533600\n",
      "Epoch  6, CIFAR-10 Batch 3:  Loss:     1.2181 Validation Accuracy: 0.546200\n",
      "Epoch  6, CIFAR-10 Batch 4:  Loss:     1.1972 Validation Accuracy: 0.545600\n",
      "Epoch  6, CIFAR-10 Batch 5:  Loss:     1.1958 Validation Accuracy: 0.554200\n",
      "Epoch  7, CIFAR-10 Batch 1:  Loss:     1.2339 Validation Accuracy: 0.549400\n",
      "Epoch  7, CIFAR-10 Batch 2:  Loss:     1.2197 Validation Accuracy: 0.556600\n",
      "Epoch  7, CIFAR-10 Batch 3:  Loss:     1.1587 Validation Accuracy: 0.553800\n",
      "Epoch  7, CIFAR-10 Batch 4:  Loss:     1.1620 Validation Accuracy: 0.548600\n",
      "Epoch  7, CIFAR-10 Batch 5:  Loss:     1.1407 Validation Accuracy: 0.562800\n",
      "Epoch  8, CIFAR-10 Batch 1:  Loss:     1.1712 Validation Accuracy: 0.565400\n",
      "Epoch  8, CIFAR-10 Batch 2:  Loss:     1.1672 Validation Accuracy: 0.566400\n",
      "Epoch  8, CIFAR-10 Batch 3:  Loss:     1.0936 Validation Accuracy: 0.569600\n",
      "Epoch  8, CIFAR-10 Batch 4:  Loss:     1.0970 Validation Accuracy: 0.568000\n",
      "Epoch  8, CIFAR-10 Batch 5:  Loss:     1.0978 Validation Accuracy: 0.563400\n",
      "Epoch  9, CIFAR-10 Batch 1:  Loss:     1.1447 Validation Accuracy: 0.566400\n",
      "Epoch  9, CIFAR-10 Batch 2:  Loss:     1.1328 Validation Accuracy: 0.570400\n",
      "Epoch  9, CIFAR-10 Batch 3:  Loss:     1.0619 Validation Accuracy: 0.569200\n",
      "Epoch  9, CIFAR-10 Batch 4:  Loss:     1.0580 Validation Accuracy: 0.579000\n",
      "Epoch  9, CIFAR-10 Batch 5:  Loss:     1.0509 Validation Accuracy: 0.578200\n",
      "Epoch 10, CIFAR-10 Batch 1:  Loss:     1.0825 Validation Accuracy: 0.580200\n",
      "Epoch 10, CIFAR-10 Batch 2:  Loss:     1.0806 Validation Accuracy: 0.576800\n",
      "Epoch 10, CIFAR-10 Batch 3:  Loss:     1.0146 Validation Accuracy: 0.580800\n",
      "Epoch 10, CIFAR-10 Batch 4:  Loss:     1.0317 Validation Accuracy: 0.584600\n",
      "Epoch 10, CIFAR-10 Batch 5:  Loss:     1.0265 Validation Accuracy: 0.587800\n",
      "Epoch 11, CIFAR-10 Batch 1:  Loss:     1.0807 Validation Accuracy: 0.574400\n",
      "Epoch 11, CIFAR-10 Batch 2:  Loss:     1.0557 Validation Accuracy: 0.585200\n",
      "Epoch 11, CIFAR-10 Batch 3:  Loss:     1.0020 Validation Accuracy: 0.579000\n",
      "Epoch 11, CIFAR-10 Batch 4:  Loss:     0.9926 Validation Accuracy: 0.590200\n",
      "Epoch 11, CIFAR-10 Batch 5:  Loss:     0.9908 Validation Accuracy: 0.587400\n",
      "Epoch 12, CIFAR-10 Batch 1:  Loss:     1.0142 Validation Accuracy: 0.585200\n",
      "Epoch 12, CIFAR-10 Batch 2:  Loss:     1.0324 Validation Accuracy: 0.590200\n",
      "Epoch 12, CIFAR-10 Batch 3:  Loss:     0.9576 Validation Accuracy: 0.586400\n",
      "Epoch 12, CIFAR-10 Batch 4:  Loss:     0.9608 Validation Accuracy: 0.592000\n",
      "Epoch 12, CIFAR-10 Batch 5:  Loss:     0.9559 Validation Accuracy: 0.589200\n",
      "Epoch 13, CIFAR-10 Batch 1:  Loss:     0.9935 Validation Accuracy: 0.592000\n",
      "Epoch 13, CIFAR-10 Batch 2:  Loss:     1.0029 Validation Accuracy: 0.592000\n",
      "Epoch 13, CIFAR-10 Batch 3:  Loss:     0.9467 Validation Accuracy: 0.584400\n",
      "Epoch 13, CIFAR-10 Batch 4:  Loss:     0.9503 Validation Accuracy: 0.592000\n",
      "Epoch 13, CIFAR-10 Batch 5:  Loss:     0.9458 Validation Accuracy: 0.596400\n",
      "Epoch 14, CIFAR-10 Batch 1:  Loss:     0.9862 Validation Accuracy: 0.594800\n",
      "Epoch 14, CIFAR-10 Batch 2:  Loss:     0.9865 Validation Accuracy: 0.588800\n",
      "Epoch 14, CIFAR-10 Batch 3:  Loss:     0.9082 Validation Accuracy: 0.594000\n",
      "Epoch 14, CIFAR-10 Batch 4:  Loss:     0.9146 Validation Accuracy: 0.597800\n",
      "Epoch 14, CIFAR-10 Batch 5:  Loss:     0.9081 Validation Accuracy: 0.594400\n",
      "Epoch 15, CIFAR-10 Batch 1:  Loss:     0.9555 Validation Accuracy: 0.601000\n",
      "Epoch 15, CIFAR-10 Batch 2:  Loss:     0.9548 Validation Accuracy: 0.587000\n",
      "Epoch 15, CIFAR-10 Batch 3:  Loss:     0.9214 Validation Accuracy: 0.583800\n",
      "Epoch 15, CIFAR-10 Batch 4:  Loss:     0.8953 Validation Accuracy: 0.597400\n",
      "Epoch 15, CIFAR-10 Batch 5:  Loss:     0.8945 Validation Accuracy: 0.598400\n",
      "Epoch 16, CIFAR-10 Batch 1:  Loss:     0.9452 Validation Accuracy: 0.600400\n",
      "Epoch 16, CIFAR-10 Batch 2:  Loss:     0.9306 Validation Accuracy: 0.589400\n",
      "Epoch 16, CIFAR-10 Batch 3:  Loss:     0.8839 Validation Accuracy: 0.594600\n",
      "Epoch 16, CIFAR-10 Batch 4:  Loss:     0.8886 Validation Accuracy: 0.592000\n",
      "Epoch 16, CIFAR-10 Batch 5:  Loss:     0.8741 Validation Accuracy: 0.601800\n",
      "Epoch 17, CIFAR-10 Batch 1:  Loss:     0.9007 Validation Accuracy: 0.604800\n",
      "Epoch 17, CIFAR-10 Batch 2:  Loss:     0.9007 Validation Accuracy: 0.594800\n",
      "Epoch 17, CIFAR-10 Batch 3:  Loss:     0.8499 Validation Accuracy: 0.599000\n",
      "Epoch 17, CIFAR-10 Batch 4:  Loss:     0.8682 Validation Accuracy: 0.598200\n",
      "Epoch 17, CIFAR-10 Batch 5:  Loss:     0.8432 Validation Accuracy: 0.604200\n",
      "Epoch 18, CIFAR-10 Batch 1:  Loss:     0.9005 Validation Accuracy: 0.599200\n",
      "Epoch 18, CIFAR-10 Batch 2:  Loss:     0.8632 Validation Accuracy: 0.602800\n",
      "Epoch 18, CIFAR-10 Batch 3:  Loss:     0.8272 Validation Accuracy: 0.605600\n",
      "Epoch 18, CIFAR-10 Batch 4:  Loss:     0.8558 Validation Accuracy: 0.600600\n",
      "Epoch 18, CIFAR-10 Batch 5:  Loss:     0.8223 Validation Accuracy: 0.608200\n",
      "Epoch 19, CIFAR-10 Batch 1:  Loss:     0.8664 Validation Accuracy: 0.606200\n",
      "Epoch 19, CIFAR-10 Batch 2:  Loss:     0.8501 Validation Accuracy: 0.603000\n",
      "Epoch 19, CIFAR-10 Batch 3:  Loss:     0.8234 Validation Accuracy: 0.598400\n",
      "Epoch 19, CIFAR-10 Batch 4:  Loss:     0.8329 Validation Accuracy: 0.605400\n",
      "Epoch 19, CIFAR-10 Batch 5:  Loss:     0.8154 Validation Accuracy: 0.609800\n",
      "Epoch 20, CIFAR-10 Batch 1:  Loss:     0.8481 Validation Accuracy: 0.606600\n",
      "Epoch 20, CIFAR-10 Batch 2:  Loss:     0.8248 Validation Accuracy: 0.605400\n",
      "Epoch 20, CIFAR-10 Batch 3:  Loss:     0.7849 Validation Accuracy: 0.606200\n",
      "Epoch 20, CIFAR-10 Batch 4:  Loss:     0.8193 Validation Accuracy: 0.606000\n",
      "Epoch 20, CIFAR-10 Batch 5:  Loss:     0.7882 Validation Accuracy: 0.604000\n",
      "Epoch 21, CIFAR-10 Batch 1:  Loss:     0.8324 Validation Accuracy: 0.610800\n",
      "Epoch 21, CIFAR-10 Batch 2:  Loss:     0.8173 Validation Accuracy: 0.610400\n",
      "Epoch 21, CIFAR-10 Batch 3:  Loss:     0.7668 Validation Accuracy: 0.610200\n",
      "Epoch 21, CIFAR-10 Batch 4:  Loss:     0.7980 Validation Accuracy: 0.607000\n",
      "Epoch 21, CIFAR-10 Batch 5:  Loss:     0.7737 Validation Accuracy: 0.611800\n",
      "Epoch 22, CIFAR-10 Batch 1:  Loss:     0.8253 Validation Accuracy: 0.607000\n",
      "Epoch 22, CIFAR-10 Batch 2:  Loss:     0.8034 Validation Accuracy: 0.606000\n"
     ]
    },
    {
     "name": "stdout",
     "output_type": "stream",
     "text": [
      "Epoch 22, CIFAR-10 Batch 3:  Loss:     0.7843 Validation Accuracy: 0.603200\n",
      "Epoch 22, CIFAR-10 Batch 4:  Loss:     0.7868 Validation Accuracy: 0.606600\n",
      "Epoch 22, CIFAR-10 Batch 5:  Loss:     0.7730 Validation Accuracy: 0.610400\n",
      "Epoch 23, CIFAR-10 Batch 1:  Loss:     0.8068 Validation Accuracy: 0.612800\n",
      "Epoch 23, CIFAR-10 Batch 2:  Loss:     0.7734 Validation Accuracy: 0.608000\n",
      "Epoch 23, CIFAR-10 Batch 3:  Loss:     0.7506 Validation Accuracy: 0.606800\n",
      "Epoch 23, CIFAR-10 Batch 4:  Loss:     0.7694 Validation Accuracy: 0.610200\n",
      "Epoch 23, CIFAR-10 Batch 5:  Loss:     0.7580 Validation Accuracy: 0.611400\n",
      "Epoch 24, CIFAR-10 Batch 1:  Loss:     0.7797 Validation Accuracy: 0.614800\n",
      "Epoch 24, CIFAR-10 Batch 2:  Loss:     0.7703 Validation Accuracy: 0.614200\n",
      "Epoch 24, CIFAR-10 Batch 3:  Loss:     0.7368 Validation Accuracy: 0.610200\n",
      "Epoch 24, CIFAR-10 Batch 4:  Loss:     0.7559 Validation Accuracy: 0.611200\n",
      "Epoch 24, CIFAR-10 Batch 5:  Loss:     0.7448 Validation Accuracy: 0.611000\n",
      "Epoch 25, CIFAR-10 Batch 1:  Loss:     0.7934 Validation Accuracy: 0.612200\n",
      "Epoch 25, CIFAR-10 Batch 2:  Loss:     0.7562 Validation Accuracy: 0.613400\n",
      "Epoch 25, CIFAR-10 Batch 3:  Loss:     0.7252 Validation Accuracy: 0.610400\n",
      "Epoch 25, CIFAR-10 Batch 4:  Loss:     0.7561 Validation Accuracy: 0.611000\n",
      "Epoch 25, CIFAR-10 Batch 5:  Loss:     0.7316 Validation Accuracy: 0.610800\n",
      "Epoch 26, CIFAR-10 Batch 1:  Loss:     0.7948 Validation Accuracy: 0.612600\n",
      "Epoch 26, CIFAR-10 Batch 2:  Loss:     0.7548 Validation Accuracy: 0.607200\n",
      "Epoch 26, CIFAR-10 Batch 3:  Loss:     0.7172 Validation Accuracy: 0.608400\n",
      "Epoch 26, CIFAR-10 Batch 4:  Loss:     0.7512 Validation Accuracy: 0.606000\n",
      "Epoch 26, CIFAR-10 Batch 5:  Loss:     0.7204 Validation Accuracy: 0.611200\n",
      "Epoch 27, CIFAR-10 Batch 1:  Loss:     0.7626 Validation Accuracy: 0.615400\n",
      "Epoch 27, CIFAR-10 Batch 2:  Loss:     0.7367 Validation Accuracy: 0.606400\n",
      "Epoch 27, CIFAR-10 Batch 3:  Loss:     0.6893 Validation Accuracy: 0.614000\n",
      "Epoch 27, CIFAR-10 Batch 4:  Loss:     0.7115 Validation Accuracy: 0.615400\n",
      "Epoch 27, CIFAR-10 Batch 5:  Loss:     0.7110 Validation Accuracy: 0.608200\n",
      "Epoch 28, CIFAR-10 Batch 1:  Loss:     0.7582 Validation Accuracy: 0.612000\n",
      "Epoch 28, CIFAR-10 Batch 2:  Loss:     0.7194 Validation Accuracy: 0.613200\n",
      "Epoch 28, CIFAR-10 Batch 3:  Loss:     0.6794 Validation Accuracy: 0.614000\n",
      "Epoch 28, CIFAR-10 Batch 4:  Loss:     0.7106 Validation Accuracy: 0.612000\n",
      "Epoch 28, CIFAR-10 Batch 5:  Loss:     0.6857 Validation Accuracy: 0.610000\n",
      "Epoch 29, CIFAR-10 Batch 1:  Loss:     0.7328 Validation Accuracy: 0.618800\n",
      "Epoch 29, CIFAR-10 Batch 2:  Loss:     0.7146 Validation Accuracy: 0.615600\n",
      "Epoch 29, CIFAR-10 Batch 3:  Loss:     0.6564 Validation Accuracy: 0.614600\n",
      "Epoch 29, CIFAR-10 Batch 4:  Loss:     0.6996 Validation Accuracy: 0.609800\n",
      "Epoch 29, CIFAR-10 Batch 5:  Loss:     0.6775 Validation Accuracy: 0.608800\n",
      "Epoch 30, CIFAR-10 Batch 1:  Loss:     0.7166 Validation Accuracy: 0.617000\n",
      "Epoch 30, CIFAR-10 Batch 2:  Loss:     0.6907 Validation Accuracy: 0.615400\n",
      "Epoch 30, CIFAR-10 Batch 3:  Loss:     0.6597 Validation Accuracy: 0.620000\n",
      "Epoch 30, CIFAR-10 Batch 4:  Loss:     0.6898 Validation Accuracy: 0.614200\n",
      "Epoch 30, CIFAR-10 Batch 5:  Loss:     0.6732 Validation Accuracy: 0.611800\n",
      "Epoch 31, CIFAR-10 Batch 1:  Loss:     0.7127 Validation Accuracy: 0.620600\n",
      "Epoch 31, CIFAR-10 Batch 2:  Loss:     0.6989 Validation Accuracy: 0.613200\n",
      "Epoch 31, CIFAR-10 Batch 3:  Loss:     0.6443 Validation Accuracy: 0.619600\n",
      "Epoch 31, CIFAR-10 Batch 4:  Loss:     0.6810 Validation Accuracy: 0.611800\n",
      "Epoch 31, CIFAR-10 Batch 5:  Loss:     0.6441 Validation Accuracy: 0.616000\n",
      "Epoch 32, CIFAR-10 Batch 1:  Loss:     0.6989 Validation Accuracy: 0.617800\n",
      "Epoch 32, CIFAR-10 Batch 2:  Loss:     0.6742 Validation Accuracy: 0.614800\n",
      "Epoch 32, CIFAR-10 Batch 3:  Loss:     0.6358 Validation Accuracy: 0.620000\n",
      "Epoch 32, CIFAR-10 Batch 4:  Loss:     0.6641 Validation Accuracy: 0.617000\n",
      "Epoch 32, CIFAR-10 Batch 5:  Loss:     0.6341 Validation Accuracy: 0.619000\n",
      "Epoch 33, CIFAR-10 Batch 1:  Loss:     0.6896 Validation Accuracy: 0.620600\n",
      "Epoch 33, CIFAR-10 Batch 2:  Loss:     0.6562 Validation Accuracy: 0.616600\n",
      "Epoch 33, CIFAR-10 Batch 3:  Loss:     0.6344 Validation Accuracy: 0.618000\n",
      "Epoch 33, CIFAR-10 Batch 4:  Loss:     0.6547 Validation Accuracy: 0.620200\n",
      "Epoch 33, CIFAR-10 Batch 5:  Loss:     0.6339 Validation Accuracy: 0.618800\n",
      "Epoch 34, CIFAR-10 Batch 1:  Loss:     0.6722 Validation Accuracy: 0.626800\n",
      "Epoch 34, CIFAR-10 Batch 2:  Loss:     0.6506 Validation Accuracy: 0.619000\n",
      "Epoch 34, CIFAR-10 Batch 3:  Loss:     0.6251 Validation Accuracy: 0.618400\n",
      "Epoch 34, CIFAR-10 Batch 4:  Loss:     0.6388 Validation Accuracy: 0.616600\n",
      "Epoch 34, CIFAR-10 Batch 5:  Loss:     0.6112 Validation Accuracy: 0.622200\n",
      "Epoch 35, CIFAR-10 Batch 1:  Loss:     0.6597 Validation Accuracy: 0.624200\n",
      "Epoch 35, CIFAR-10 Batch 2:  Loss:     0.6328 Validation Accuracy: 0.621400\n",
      "Epoch 35, CIFAR-10 Batch 3:  Loss:     0.6130 Validation Accuracy: 0.624800\n",
      "Epoch 35, CIFAR-10 Batch 4:  Loss:     0.6283 Validation Accuracy: 0.622800\n",
      "Epoch 35, CIFAR-10 Batch 5:  Loss:     0.5977 Validation Accuracy: 0.622600\n",
      "Epoch 36, CIFAR-10 Batch 1:  Loss:     0.6523 Validation Accuracy: 0.627400\n",
      "Epoch 36, CIFAR-10 Batch 2:  Loss:     0.6213 Validation Accuracy: 0.627200\n",
      "Epoch 36, CIFAR-10 Batch 3:  Loss:     0.6018 Validation Accuracy: 0.620000\n",
      "Epoch 36, CIFAR-10 Batch 4:  Loss:     0.6107 Validation Accuracy: 0.623600\n",
      "Epoch 36, CIFAR-10 Batch 5:  Loss:     0.5931 Validation Accuracy: 0.624600\n",
      "Epoch 37, CIFAR-10 Batch 1:  Loss:     0.6366 Validation Accuracy: 0.628800\n",
      "Epoch 37, CIFAR-10 Batch 2:  Loss:     0.6193 Validation Accuracy: 0.619400\n",
      "Epoch 37, CIFAR-10 Batch 3:  Loss:     0.5851 Validation Accuracy: 0.623800\n",
      "Epoch 37, CIFAR-10 Batch 4:  Loss:     0.6088 Validation Accuracy: 0.622000\n",
      "Epoch 37, CIFAR-10 Batch 5:  Loss:     0.5801 Validation Accuracy: 0.620800\n",
      "Epoch 38, CIFAR-10 Batch 1:  Loss:     0.6353 Validation Accuracy: 0.627400\n",
      "Epoch 38, CIFAR-10 Batch 2:  Loss:     0.6042 Validation Accuracy: 0.621200\n",
      "Epoch 38, CIFAR-10 Batch 3:  Loss:     0.5787 Validation Accuracy: 0.622600\n",
      "Epoch 38, CIFAR-10 Batch 4:  Loss:     0.6063 Validation Accuracy: 0.621400\n",
      "Epoch 38, CIFAR-10 Batch 5:  Loss:     0.5785 Validation Accuracy: 0.623400\n",
      "Epoch 39, CIFAR-10 Batch 1:  Loss:     0.6264 Validation Accuracy: 0.630200\n",
      "Epoch 39, CIFAR-10 Batch 2:  Loss:     0.5984 Validation Accuracy: 0.620200\n",
      "Epoch 39, CIFAR-10 Batch 3:  Loss:     0.5794 Validation Accuracy: 0.624800\n",
      "Epoch 39, CIFAR-10 Batch 4:  Loss:     0.5899 Validation Accuracy: 0.627200\n",
      "Epoch 39, CIFAR-10 Batch 5:  Loss:     0.5815 Validation Accuracy: 0.624400\n",
      "Epoch 40, CIFAR-10 Batch 1:  Loss:     0.6045 Validation Accuracy: 0.633600\n",
      "Epoch 40, CIFAR-10 Batch 2:  Loss:     0.5833 Validation Accuracy: 0.623200\n",
      "Epoch 40, CIFAR-10 Batch 3:  Loss:     0.5631 Validation Accuracy: 0.625400\n",
      "Epoch 40, CIFAR-10 Batch 4:  Loss:     0.5806 Validation Accuracy: 0.630200\n",
      "Epoch 40, CIFAR-10 Batch 5:  Loss:     0.5629 Validation Accuracy: 0.624000\n",
      "Epoch 41, CIFAR-10 Batch 1:  Loss:     0.5964 Validation Accuracy: 0.633000\n",
      "Epoch 41, CIFAR-10 Batch 2:  Loss:     0.5823 Validation Accuracy: 0.627800\n",
      "Epoch 41, CIFAR-10 Batch 3:  Loss:     0.5551 Validation Accuracy: 0.628800\n",
      "Epoch 41, CIFAR-10 Batch 4:  Loss:     0.5825 Validation Accuracy: 0.624800\n",
      "Epoch 41, CIFAR-10 Batch 5:  Loss:     0.5552 Validation Accuracy: 0.628000\n",
      "Epoch 42, CIFAR-10 Batch 1:  Loss:     0.5910 Validation Accuracy: 0.631200\n",
      "Epoch 42, CIFAR-10 Batch 2:  Loss:     0.5746 Validation Accuracy: 0.625000\n",
      "Epoch 42, CIFAR-10 Batch 3:  Loss:     0.5501 Validation Accuracy: 0.630800\n",
      "Epoch 42, CIFAR-10 Batch 4:  Loss:     0.5605 Validation Accuracy: 0.625200\n",
      "Epoch 42, CIFAR-10 Batch 5:  Loss:     0.5358 Validation Accuracy: 0.623200\n",
      "Epoch 43, CIFAR-10 Batch 1:  Loss:     0.5851 Validation Accuracy: 0.631200\n",
      "Epoch 43, CIFAR-10 Batch 2:  Loss:     0.5724 Validation Accuracy: 0.625600\n",
      "Epoch 43, CIFAR-10 Batch 3:  Loss:     0.5281 Validation Accuracy: 0.628400\n",
      "Epoch 43, CIFAR-10 Batch 4:  Loss:     0.5586 Validation Accuracy: 0.622600\n"
     ]
    },
    {
     "name": "stdout",
     "output_type": "stream",
     "text": [
      "Epoch 43, CIFAR-10 Batch 5:  Loss:     0.5418 Validation Accuracy: 0.619000\n",
      "Epoch 44, CIFAR-10 Batch 1:  Loss:     0.5801 Validation Accuracy: 0.627400\n",
      "Epoch 44, CIFAR-10 Batch 2:  Loss:     0.5774 Validation Accuracy: 0.623600\n",
      "Epoch 44, CIFAR-10 Batch 3:  Loss:     0.5299 Validation Accuracy: 0.622600\n",
      "Epoch 44, CIFAR-10 Batch 4:  Loss:     0.5517 Validation Accuracy: 0.627000\n",
      "Epoch 44, CIFAR-10 Batch 5:  Loss:     0.5223 Validation Accuracy: 0.629600\n",
      "Epoch 45, CIFAR-10 Batch 1:  Loss:     0.5766 Validation Accuracy: 0.630800\n",
      "Epoch 45, CIFAR-10 Batch 2:  Loss:     0.5534 Validation Accuracy: 0.623000\n",
      "Epoch 45, CIFAR-10 Batch 3:  Loss:     0.5247 Validation Accuracy: 0.624600\n",
      "Epoch 45, CIFAR-10 Batch 4:  Loss:     0.5463 Validation Accuracy: 0.624600\n",
      "Epoch 45, CIFAR-10 Batch 5:  Loss:     0.5246 Validation Accuracy: 0.622200\n",
      "Epoch 46, CIFAR-10 Batch 1:  Loss:     0.5670 Validation Accuracy: 0.625400\n",
      "Epoch 46, CIFAR-10 Batch 2:  Loss:     0.5460 Validation Accuracy: 0.621800\n",
      "Epoch 46, CIFAR-10 Batch 3:  Loss:     0.5161 Validation Accuracy: 0.625800\n",
      "Epoch 46, CIFAR-10 Batch 4:  Loss:     0.5313 Validation Accuracy: 0.626400\n",
      "Epoch 46, CIFAR-10 Batch 5:  Loss:     0.5137 Validation Accuracy: 0.620400\n",
      "Epoch 47, CIFAR-10 Batch 1:  Loss:     0.5594 Validation Accuracy: 0.630800\n",
      "Epoch 47, CIFAR-10 Batch 2:  Loss:     0.5413 Validation Accuracy: 0.624200\n",
      "Epoch 47, CIFAR-10 Batch 3:  Loss:     0.5109 Validation Accuracy: 0.627200\n",
      "Epoch 47, CIFAR-10 Batch 4:  Loss:     0.5354 Validation Accuracy: 0.618200\n",
      "Epoch 47, CIFAR-10 Batch 5:  Loss:     0.5087 Validation Accuracy: 0.625400\n",
      "Epoch 48, CIFAR-10 Batch 1:  Loss:     0.5551 Validation Accuracy: 0.626600\n",
      "Epoch 48, CIFAR-10 Batch 2:  Loss:     0.5354 Validation Accuracy: 0.625400\n",
      "Epoch 48, CIFAR-10 Batch 3:  Loss:     0.5003 Validation Accuracy: 0.625600\n",
      "Epoch 48, CIFAR-10 Batch 4:  Loss:     0.5258 Validation Accuracy: 0.622400\n",
      "Epoch 48, CIFAR-10 Batch 5:  Loss:     0.4924 Validation Accuracy: 0.622200\n",
      "Epoch 49, CIFAR-10 Batch 1:  Loss:     0.5468 Validation Accuracy: 0.629600\n",
      "Epoch 49, CIFAR-10 Batch 2:  Loss:     0.5353 Validation Accuracy: 0.628200\n",
      "Epoch 49, CIFAR-10 Batch 3:  Loss:     0.4905 Validation Accuracy: 0.626800\n",
      "Epoch 49, CIFAR-10 Batch 4:  Loss:     0.5112 Validation Accuracy: 0.623200\n",
      "Epoch 49, CIFAR-10 Batch 5:  Loss:     0.4888 Validation Accuracy: 0.618200\n",
      "Epoch 50, CIFAR-10 Batch 1:  Loss:     0.5446 Validation Accuracy: 0.623600\n",
      "Epoch 50, CIFAR-10 Batch 2:  Loss:     0.5337 Validation Accuracy: 0.620000\n",
      "Epoch 50, CIFAR-10 Batch 3:  Loss:     0.4921 Validation Accuracy: 0.622600\n",
      "Epoch 50, CIFAR-10 Batch 4:  Loss:     0.5204 Validation Accuracy: 0.620200\n",
      "Epoch 50, CIFAR-10 Batch 5:  Loss:     0.4710 Validation Accuracy: 0.625800\n"
     ]
    }
   ],
   "source": [
    "\"\"\"\n",
    "DON'T MODIFY ANYTHING IN THIS CELL\n",
    "\"\"\"\n",
    "save_model_path = './image_classification'\n",
    "\n",
    "print('Training...')\n",
    "with tf.Session() as sess:\n",
    "    # Initializing the variables\n",
    "    sess.run(tf.global_variables_initializer())\n",
    "    \n",
    "    # Training cycle\n",
    "    for epoch in range(epochs):\n",
    "        # Loop over all batches\n",
    "        n_batches = 5\n",
    "        for batch_i in range(1, n_batches + 1):\n",
    "            for batch_features, batch_labels in helper.load_preprocess_training_batch(batch_i, batch_size):\n",
    "                train_neural_network(sess, optimizer, keep_probability, batch_features, batch_labels)\n",
    "            print('Epoch {:>2}, CIFAR-10 Batch {}:  '.format(epoch + 1, batch_i), end='')\n",
    "            print_stats(sess, batch_features, batch_labels, cost, accuracy)\n",
    "            \n",
    "    # Save Model\n",
    "    saver = tf.train.Saver()\n",
    "    save_path = saver.save(sess, save_model_path)"
   ]
  },
  {
   "cell_type": "markdown",
   "metadata": {},
   "source": [
    "# Checkpoint\n",
    "The model has been saved to disk.\n",
    "## Test Model\n",
    "Test your model against the test dataset.  This will be your final accuracy. You should have an accuracy greater than 50%. If you don't, keep tweaking the model architecture and parameters."
   ]
  },
  {
   "cell_type": "code",
   "execution_count": 23,
   "metadata": {},
   "outputs": [
    {
     "name": "stdout",
     "output_type": "stream",
     "text": [
      "INFO:tensorflow:Restoring parameters from ./image_classification\n",
      "Testing Accuracy: 0.6314991235733032\n",
      "\n"
     ]
    },
    {
     "data": {
      "image/png": "[encoded data removed]",
      "text/plain": [
       "<matplotlib.figure.Figure at 0x21c57fc89b0>"
      ]
     },
     "metadata": {
      "image/png": {
       "height": 319,
       "width": 355
      }
     },
     "output_type": "display_data"
    }
   ],
   "source": [
    "\"\"\"\n",
    "DON'T MODIFY ANYTHING IN THIS CELL\n",
    "\"\"\"\n",
    "%matplotlib inline\n",
    "%config InlineBackend.figure_format = 'retina'\n",
    "\n",
    "import tensorflow as tf\n",
    "import pickle\n",
    "import helper\n",
    "import random\n",
    "\n",
    "# Set batch size if not already set\n",
    "try:\n",
    "    if batch_size:\n",
    "        pass\n",
    "except NameError:\n",
    "    batch_size = 64\n",
    "\n",
    "save_model_path = './image_classification'\n",
    "n_samples = 4\n",
    "top_n_predictions = 3\n",
    "\n",
    "def test_model():\n",
    "    \"\"\"\n",
    "    Test the saved model against the test dataset\n",
    "    \"\"\"\n",
    "\n",
    "    test_features, test_labels = pickle.load(open('preprocess_test.p', mode='rb'))\n",
    "    loaded_graph = tf.Graph()\n",
    "\n",
    "    with tf.Session(graph=loaded_graph) as sess:\n",
    "        # Load model\n",
    "        loader = tf.train.import_meta_graph(save_model_path + '.meta')\n",
    "        loader.restore(sess, save_model_path)\n",
    "\n",
    "        # Get Tensors from loaded model\n",
    "        loaded_x = loaded_graph.get_tensor_by_name('x:0')\n",
    "        loaded_y = loaded_graph.get_tensor_by_name('y:0')\n",
    "        loaded_keep_prob = loaded_graph.get_tensor_by_name('keep_prob:0')\n",
    "        loaded_logits = loaded_graph.get_tensor_by_name('logits:0')\n",
    "        loaded_acc = loaded_graph.get_tensor_by_name('accuracy:0')\n",
    "        \n",
    "        # Get accuracy in batches for memory limitations\n",
    "        test_batch_acc_total = 0\n",
    "        test_batch_count = 0\n",
    "        \n",
    "        for test_feature_batch, test_label_batch in helper.batch_features_labels(test_features, test_labels, batch_size):\n",
    "            test_batch_acc_total += sess.run(\n",
    "                loaded_acc,\n",
    "                feed_dict={loaded_x: test_feature_batch, loaded_y: test_label_batch, loaded_keep_prob: 1.0})\n",
    "            test_batch_count += 1\n",
    "\n",
    "        print('Testing Accuracy: {}\\n'.format(test_batch_acc_total/test_batch_count))\n",
    "\n",
    "        # Print Random Samples\n",
    "        random_test_features, random_test_labels = tuple(zip(*random.sample(list(zip(test_features, test_labels)), n_samples)))\n",
    "        random_test_predictions = sess.run(\n",
    "            tf.nn.top_k(tf.nn.softmax(loaded_logits), top_n_predictions),\n",
    "            feed_dict={loaded_x: random_test_features, loaded_y: random_test_labels, loaded_keep_prob: 1.0})\n",
    "        helper.display_image_predictions(random_test_features, random_test_labels, random_test_predictions)\n",
    "\n",
    "\n",
    "test_model()"
   ]
  },
  {
   "cell_type": "markdown",
   "metadata": {},
   "source": [
    "## Why 50-80% Accuracy?\n",
    "You might be wondering why you can't get an accuracy any higher. First things first, 50% isn't bad for a simple CNN.  Pure guessing would get you 10% accuracy. However, you might notice people are getting scores [well above 80%](http://rodrigob.github.io/are_we_there_yet/build/classification_datasets_results.html#43494641522d3130).  That's because we haven't taught you all there is to know about neural networks. We still need to cover a few more techniques.\n",
    "## Submitting This Project\n",
    "When submitting this project, make sure to run all the cells before saving the notebook.  Save the notebook file as \"dlnd_image_classification.ipynb\" and save it as a HTML file under \"File\" -> \"Download as\".  Include the \"helper.py\" and \"problem_unittests.py\" files in your submission."
   ]
  }
 ],
 "metadata": {
  "kernelspec": {
   "display_name": "Python [default]",
   "language": "python",
   "name": "python3"
  },
  "language_info": {
   "codemirror_mode": {
    "name": "ipython",
    "version": 3
   },
   "file_extension": ".py",
   "mimetype": "text/x-python",
   "name": "python",
   "nbconvert_exporter": "python",
   "pygments_lexer": "ipython3",
   "version": "3.6.1"
  }
 },
 "nbformat": 4,
 "nbformat_minor": 1
}
